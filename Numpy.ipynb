{
 "cells": [
  {
   "cell_type": "code",
   "execution_count": 1,
   "metadata": {},
   "outputs": [
    {
     "name": "stdout",
     "output_type": "stream",
     "text": [
      "[ 0  2 12 36]\n"
     ]
    }
   ],
   "source": [
    "import numpy as np\n",
    "\n",
    "def numpysum(n):\n",
    "    a=np.arange(n)**2\n",
    "    b=np.arange(n)**3\n",
    "    c=a+b\n",
    "    \n",
    "    return c\n",
    "\n",
    "print(numpysum(4))"
   ]
  },
  {
   "cell_type": "code",
   "execution_count": 2,
   "metadata": {},
   "outputs": [
    {
     "name": "stdout",
     "output_type": "stream",
     "text": [
      "280000\n",
      "40000\n"
     ]
    }
   ],
   "source": [
    "import numpy as np\n",
    "import sys\n",
    "\n",
    "s=range(10000)\n",
    "print(sys.getsizeof(5)*len(s))\n",
    "n=np.arange(10000)\n",
    "print(n.size*n.itemsize)#size gives size of whole array and item size gives size of single item"
   ]
  },
  {
   "cell_type": "code",
   "execution_count": 3,
   "metadata": {},
   "outputs": [
    {
     "name": "stdout",
     "output_type": "stream",
     "text": [
      "525.0804424285889\n",
      "43.05553436279297\n"
     ]
    }
   ],
   "source": [
    "import numpy as np\n",
    "import time\n",
    "\n",
    "size=1000000\n",
    "\n",
    "l1=range(size)\n",
    "l2=range(size)\n",
    "\n",
    "n1=np.arange(size)\n",
    "n2=np.arange(size)\n",
    "\n",
    "start=time.time()\n",
    "\n",
    "result=[(x+y) for x,y in zip(l1,l2)]\n",
    "\n",
    "print((time.time()-start)*1000)\n",
    "\n",
    "start=time.time()\n",
    "\n",
    "result=n1+n2\n",
    "\n",
    "print((time.time()-start)*1000)"
   ]
  },
  {
   "cell_type": "code",
   "execution_count": 4,
   "metadata": {},
   "outputs": [
    {
     "name": "stdout",
     "output_type": "stream",
     "text": [
      "[[1 2 3]\n",
      " [4 5 6]\n",
      " [7 8 9]]\n",
      "(3, 3) int32 2\n",
      "[[0 1]\n",
      " [0 1]]\n",
      "(2, 2) int32 2\n"
     ]
    }
   ],
   "source": [
    "import numpy as np\n",
    "\n",
    "a=np.array([(1,2,3),(4,5,6),(7,8,9)])\n",
    "b=np.array([np.arange(2),np.arange(2)])\n",
    "print(a)\n",
    "print(a.shape,a.dtype,a.ndim)#shape gives mxn matrix shape,dtype gives ata type,ndim gives dimension of matrix\n",
    "print(b)\n",
    "print(b.shape,b.dtype,b.ndim)"
   ]
  },
  {
   "cell_type": "code",
   "execution_count": 5,
   "metadata": {},
   "outputs": [
    {
     "name": "stdout",
     "output_type": "stream",
     "text": [
      "(b'hello anix', 32, 4.6)\n"
     ]
    }
   ],
   "source": [
    "import numpy as np\n",
    "\n",
    "d=([('name','S40'),('items','i4'),('price','f4')])\n",
    "a=np.array([(\"hello anix\",32,4.6),(\"hello ab\",66,2.2)],dtype=d)\n",
    "print(a[0])"
   ]
  },
  {
   "cell_type": "code",
   "execution_count": 6,
   "metadata": {},
   "outputs": [
    {
     "name": "stdout",
     "output_type": "stream",
     "text": [
      "[[1 2]\n",
      " [3 4]\n",
      " [5 6]]\n",
      "[[1 2 3]\n",
      " [4 5 6]]\n",
      "[[1 2]\n",
      " [3 4]\n",
      " [5 6]]\n",
      "[1 2 3 4 5 6]\n",
      "[[1 2]\n",
      " [3 4]\n",
      " [5 6]]\n",
      "[[1 3 5]\n",
      " [2 4 6]]\n"
     ]
    }
   ],
   "source": [
    "import numpy as np\n",
    "\n",
    "a=np.array([(1,2,3),(4,5,6)])\n",
    "print(a.reshape(3,2))#used to view matrix according to given shape\n",
    "print(a)\n",
    "a.resize(3,2)#modifies matrix according to given shape\n",
    "print(a)\n",
    "print(a.ravel())#used to view matrix in one row\n",
    "print(a)\n",
    "print(a.transpose())#a.T can also be used to find transpose of matrix"
   ]
  },
  {
   "cell_type": "code",
   "execution_count": 7,
   "metadata": {},
   "outputs": [
    {
     "name": "stdout",
     "output_type": "stream",
     "text": [
      "[1.         1.44444444 1.88888889 2.33333333 2.77777778 3.22222222\n",
      " 3.66666667 4.11111111 4.55555556 5.        ]\n",
      "[[[ 0  1  2  3]\n",
      "  [ 4  5  6  7]\n",
      "  [ 8  9 10 11]]\n",
      "\n",
      " [[12 13 14 15]\n",
      "  [16 17 18 19]\n",
      "  [20 21 22 23]]]\n",
      "[[[ 4  5]\n",
      "  [ 8  9]]\n",
      "\n",
      " [[16 17]\n",
      "  [20 21]]]\n",
      "[4 6]\n",
      "[[ 0  1  2  3]\n",
      " [ 4  5  6  7]\n",
      " [ 8  9 10 11]]\n",
      "[[ 3  7 11]\n",
      " [15 19 23]]\n",
      "[11  7  3]\n"
     ]
    }
   ],
   "source": [
    "import numpy as np\n",
    "\n",
    "a=np.arange(24).reshape(2,3,4)\n",
    "c=np.linspace(1,5,10)#prints any 10 values between 1 to 5\n",
    "print(c)\n",
    "print(a)\n",
    "b=a[:,1:3,0:2]\n",
    "print(b)\n",
    "b=a[0,1,::2]#takes value from 0th row 1st column and print in 2 step order\n",
    "print(b)\n",
    "b=a[0,...]\n",
    "print(b)\n",
    "b=a[...,-1]\n",
    "print(b)\n",
    "b=a[0,::-1,-1]\n",
    "print(b)"
   ]
  },
  {
   "cell_type": "code",
   "execution_count": 8,
   "metadata": {},
   "outputs": [
    {
     "name": "stdout",
     "output_type": "stream",
     "text": [
      "6\n",
      "1\n",
      "[5 7 9]\n",
      "[ 6 15]\n",
      "[[1.         1.41421356 1.73205081]\n",
      " [2.         2.23606798 2.44948974]]\n",
      "1.707825127659933\n"
     ]
    }
   ],
   "source": [
    "import numpy as np\n",
    "\n",
    "a=np.array([(1,2,3),(4,5,6)])\n",
    "print(a.max())\n",
    "print(a.min())\n",
    "print(a.sum(axis=0))#axis 0 is for columns\n",
    "print(a.sum(axis=1))#axis 1 is for rows\n",
    "print(np.sqrt(a))\n",
    "print(np.std(a))"
   ]
  },
  {
   "cell_type": "code",
   "execution_count": 9,
   "metadata": {},
   "outputs": [
    {
     "name": "stdout",
     "output_type": "stream",
     "text": [
      "[[1. 0. 0.]\n",
      " [0. 1. 0.]\n",
      " [0. 0. 1.]]\n",
      "[[ 2  4  6]\n",
      " [ 8 10 12]]\n",
      "[[0 0 0]\n",
      " [0 0 0]]\n",
      "[[ 1  4  9]\n",
      " [16 25 36]]\n",
      "[[1. 1. 1.]\n",
      " [1. 1. 1.]]\n",
      "[[1 2 3 1 2 3]\n",
      " [4 5 6 4 5 6]]\n",
      "[[1 2 3]\n",
      " [4 5 6]\n",
      " [1 2 3]\n",
      " [4 5 6]]\n",
      "[[[1 1]\n",
      "  [2 2]\n",
      "  [3 3]]\n",
      "\n",
      " [[4 4]\n",
      "  [5 5]\n",
      "  [6 6]]]\n",
      "[array([[1],\n",
      "       [4]]), array([[2],\n",
      "       [5]]), array([[3],\n",
      "       [6]])]\n",
      "[[1.+0.j 2.+0.j 3.+0.j]\n",
      " [4.+0.j 5.+0.j 6.+0.j]]\n"
     ]
    }
   ],
   "source": [
    "import numpy as np\n",
    "\n",
    "a=np.array([(1,2,3),(4,5,6)])\n",
    "b=np.array([(1,2,3),(4,5,6)])\n",
    "\n",
    "print(np.eye(3))#eye creates identity matrix of given value..for this 3x3\n",
    "print(a+b)#adds each element of matrix\n",
    "print(a-b)#subs each element of matrix\n",
    "print(a*b)#muls each element of matrix\n",
    "print(a/b)#divs each element of matrix\n",
    "print(np.hstack((a,b)))#make both matrix horizontally arranged\n",
    "print(np.vstack((a,b)))#make both matrix vertically arranged\n",
    "print(np.dstack((a,b)))#make both matrix arranged by depth\n",
    "print(np.hsplit(a,3))#splits horizontally in 3 columns...columnwise......also try  vsplit,dsplit\n",
    "print(a.astype(complex))#astype converts an array into given type in braces"
   ]
  },
  {
   "cell_type": "code",
   "execution_count": 26,
   "metadata": {},
   "outputs": [
    {
     "name": "stdout",
     "output_type": "stream",
     "text": [
      "[[ 2.71828183  7.3890561  20.08553692]]\n",
      "[[0.         0.30103    0.47712125]]\n"
     ]
    }
   ],
   "source": [
    "import numpy as np\n",
    "\n",
    "a=np.array([(1,2,3)])\n",
    "np.savetxt(\"arr.txt\",a)#savetxt() saves given array 'a' in file arr.txt created at that instant\n",
    "print(np.exp(a))\n",
    "print(np.log10(a))"
   ]
  },
  {
   "cell_type": "code",
   "execution_count": 25,
   "metadata": {},
   "outputs": [
    {
     "name": "stdout",
     "output_type": "stream",
     "text": [
      "VWAP= 350.5895493532009\n"
     ]
    }
   ],
   "source": [
    "import numpy as np\n",
    "#program to calc vwap using give data in data.csv file\n",
    "c,v=np.loadtxt('data.csv',delimiter=',',usecols=(6,7),unpack=True)#takes close price and volume from from column 6 and 7 as c and\n",
    "#v respectively delimeter is used as separater as csv files are separated by a ',' in txt format...unpack argument is set to True\n",
    "#which means that data will be unpacked and assigned to the c and v variables\n",
    "#by this method \"dates\" can't be loaded\n",
    "vwap=np.average(c,weights=v)\n",
    "print(\"VWAP=\",vwap)"
   ]
  },
  {
   "cell_type": "code",
   "execution_count": 24,
   "metadata": {},
   "outputs": [
    {
     "name": "stdout",
     "output_type": "stream",
     "text": [
      "4.0\n",
      "twap = 352.4283218390804\n"
     ]
    }
   ],
   "source": [
    "import numpy as np\n",
    "\n",
    "a=np.arange(9)\n",
    "b=np.mean(a)\n",
    "print(b)\n",
    "c=np.loadtxt('data.csv',delimiter=',',usecols=(6,),unpack=True)\n",
    "t = np.arange(len(c))\n",
    "print(\"twap =\", np.average(c, weights=t))"
   ]
  },
  {
   "cell_type": "code",
   "execution_count": 13,
   "metadata": {},
   "outputs": [
    {
     "name": "stdout",
     "output_type": "stream",
     "text": [
      "highest = 388.99\n",
      "lowest = 322.44\n",
      "Spread high price 46.120000000000005\n",
      "Spread low price 73.68\n"
     ]
    }
   ],
   "source": [
    "import numpy as np\n",
    "\n",
    "h,l=np.loadtxt('data.csv', delimiter=',', usecols=(4,5), unpack=True)\n",
    "print(\"highest =\", np.max(h))\n",
    "print(\"lowest =\", np.min(l))\n",
    "print(\"Spread high price\", np.ptp(h))#ptp is peak o peak i.e. it gives differnce between max and min value in an array(column or\n",
    "#row...column in this case)\n",
    "print(\"Spread low price\", np.ptp(l))"
   ]
  },
  {
   "cell_type": "code",
   "execution_count": 23,
   "metadata": {},
   "outputs": [
    {
     "name": "stdout",
     "output_type": "stream",
     "text": [
      "352.055\n",
      "[336.1  338.61 339.32 342.62 342.88 343.44 344.32 345.03 346.5  346.67\n",
      " 348.16 349.31 350.56 351.88 351.99 352.12 352.47 353.21 354.54 355.2\n",
      " 355.36 355.76 356.85 358.16 358.3  359.18 359.56 359.9  360.   363.13]\n",
      "50.126517888888884\n"
     ]
    }
   ],
   "source": [
    "import numpy as np\n",
    "\n",
    "c=np.loadtxt('data.csv',delimiter=',',usecols=(6,),unpack=True)\n",
    "print(np.median(c))\n",
    "print(np.msort(c))#sorts given array\n",
    "print(np.var(c))#variance of array"
   ]
  },
  {
   "cell_type": "code",
   "execution_count": 22,
   "metadata": {},
   "outputs": [
    {
     "name": "stdout",
     "output_type": "stream",
     "text": [
      "50.126517888888884\n"
     ]
    }
   ],
   "source": [
    "import numpy as np\n",
    "\n",
    "c=np.loadtxt('data.csv',delimiter=',',usecols=(6,),unpack=True)\n",
    "print(np.mean((c-c.mean())**2))#calulating variance using formula...see formula in maths"
   ]
  },
  {
   "cell_type": "code",
   "execution_count": 16,
   "metadata": {},
   "outputs": [
    {
     "name": "stdout",
     "output_type": "stream",
     "text": [
      "[[ 1  2]\n",
      " [-3  4]\n",
      " [-5  6]]\n",
      "[[ 1]\n",
      " [ 7]\n",
      " [11]]\n",
      "(array([0, 0, 1, 2], dtype=int64), array([0, 1, 1, 1], dtype=int64))\n"
     ]
    }
   ],
   "source": [
    "import numpy as np\n",
    "\n",
    "a=np.array([(1,2,-3),(4,-5,6)])\n",
    "a.resize(3,2)\n",
    "print(a)\n",
    "f=np.diff(a)\n",
    "print(f)#calc difference between consecutive numbers\n",
    "c=np.where(a>0)#where() is used to check condition...it prints index number not number itself\n",
    "print(c)"
   ]
  },
  {
   "cell_type": "code",
   "execution_count": 65,
   "metadata": {},
   "outputs": [
    {
     "name": "stdout",
     "output_type": "stream",
     "text": [
      "[[1 2]\n",
      " [1 2]\n",
      " [4 5]\n",
      " [8 9]]\n",
      "[[ 1  2]\n",
      " [ 4  5]\n",
      " [ 5  6]\n",
      " [ 8  9]\n",
      " [ 9 10]]\n",
      "[[0. 0. 0.]\n",
      " [0. 0. 0.]\n",
      " [0. 0. 0.]]\n",
      "[[1. 1. 1.]\n",
      " [1. 1. 1.]\n",
      " [1. 1. 1.]]\n",
      "[[ 1  2]\n",
      " [ 6  6]\n",
      " [ 4  7]\n",
      " [ 7  6]\n",
      " [ 8  9]\n",
      " [ 9 10]]\n"
     ]
    }
   ],
   "source": [
    "import numpy as np\n",
    "\n",
    "x=np.array([[0,1],[1,2],[1,2],[4,5],[5,6],[8,9],[9,10]])\n",
    "\n",
    "y=np.array([[5,6],[9,10]])\n",
    "x=np.delete(x,0,axis=0)#used to delete...in this 0th of axis 0 i.e. 1st row is deleted\n",
    "z=np.vstack(r for r in x if r not in y)#to delete rows common in both\n",
    "print(z)\n",
    "print(np.unique(x,axis=0))#gives one value if some value is repeated\n",
    "print(np.zeros((3,3),dtype=float))\n",
    "print(np.ones((3,3),dtype=float))\n",
    "p=np.array([[1,2],[1,2],[4,5],[5,6],[8,9],[9,10]])\n",
    "u=np.array([[1,2],[6,6],[4,7],[7,6],[8,1],[9,10]])\n",
    "print(np.maximum(p,u))#selects max over a row...arrays must be broadcastable..minimum() function is also there"
   ]
  },
  {
   "cell_type": "code",
   "execution_count": 18,
   "metadata": {},
   "outputs": [
    {
     "name": "stdout",
     "output_type": "stream",
     "text": [
      "[27 26 16]\n",
      "[27 26]\n"
     ]
    }
   ],
   "source": [
    "import numpy as np\n",
    "\n",
    "x=np.array([2,3])\n",
    "\n",
    "y=np.array([5,6,4,2])\n",
    "print(np.convolve(y,x,'valid'))#convolve is used in signal processing...see stackoverflow bookmark of convolve...other than valid\n",
    "#there are 'full' and 'same' mode also\n",
    "\n",
    "print(np.convolve(y,x,'valid')[0:2])#subsript or slicing is used to get only first two values"
   ]
  },
  {
   "cell_type": "code",
   "execution_count": 53,
   "metadata": {},
   "outputs": [
    {
     "name": "stdout",
     "output_type": "stream",
     "text": [
      "[1 5 9]\n",
      "[[[1 0 0]\n",
      "  [0 2 0]\n",
      "  [0 0 3]]\n",
      "\n",
      " [[4 0 0]\n",
      "  [0 5 0]\n",
      "  [0 0 6]]\n",
      "\n",
      " [[7 0 0]\n",
      "  [0 8 0]\n",
      "  [0 0 9]]]\n"
     ]
    }
   ],
   "source": [
    "import numpy as np\n",
    "\n",
    "b = np.array([[1,2,3], [4,5,6], [7,8,9]])\n",
    "print(np.diag(b))#gives diagonal elements\n",
    "print(np.apply_along_axis(np.diag,1,b))#this function applies or calls given function in an array along given axis\n",
    "#here given function is np.diag for diagonal elements along axis 1 in 'b' array"
   ]
  },
  {
   "cell_type": "code",
   "execution_count": 36,
   "metadata": {},
   "outputs": [
    {
     "name": "stdout",
     "output_type": "stream",
     "text": [
      "Standard deviation = 0.012922134436826306\n",
      "Indices with positive returns (array([ 0,  1,  4,  5,  6,  7,  9, 10, 11, 12, 16, 17, 18, 19, 21, 22, 23,\n",
      "       25, 28], dtype=int64),)\n",
      "Annual volatility 129.27478991115132\n",
      "Monthly volatility 37.318417377317765\n"
     ]
    }
   ],
   "source": [
    "import numpy as np\n",
    "#see ivan idris book\n",
    "c=np.loadtxt('data.csv', delimiter=',', usecols=(6,), unpack=True)\n",
    "returns = np.diff( c ) / c[ : -1]\n",
    "print(\"Standard deviation =\", np.std(returns))\n",
    "logreturns = np.diff( np.log(c) )\n",
    "posretindices = np.where(returns > 0)\n",
    "print(\"Indices with positive returns\", posretindices)\n",
    "annual_volatility = np.std(logreturns)/np.mean(logreturns)\n",
    "annual_volatility = annual_volatility / np.sqrt(1./252.)\n",
    "print(\"Annual volatility\", annual_volatility)\n",
    "print(\"Monthly volatility\", annual_volatility * np.sqrt(1./12.))"
   ]
  },
  {
   "cell_type": "code",
   "execution_count": 43,
   "metadata": {},
   "outputs": [
    {
     "name": "stdout",
     "output_type": "stream",
     "text": [
      "[361.67 357.4  354.76 349.77 352.32]\n",
      "[351.31 352.25 350.6  344.9  345.  ]\n",
      "len(h) 5 len(l) 5\n",
      "Close [336.1  339.32 345.03 344.32 343.44 346.5  351.88 355.2  358.16 354.54\n",
      " 356.85 359.18 359.9  363.13 358.3  350.56 338.61 342.62 342.88 348.16\n",
      " 353.21 349.31 352.12 359.56 360.   355.36 355.76 352.47 346.67 351.99]\n",
      "len(previousclose) 5\n",
      "Previous close [360.   355.36 355.76 352.47 346.67]\n",
      "True range [10.36  5.15  4.16  4.87  7.32]\n",
      "ATR [6.372     6.1276    5.73408   5.561264  5.9130112]\n"
     ]
    }
   ],
   "source": [
    "import numpy as np\n",
    "#see ivan idris book\n",
    "h, l, c = np.loadtxt('data.csv', delimiter=',', usecols=(4, 5, 6), unpack=True)\n",
    "\n",
    "N = 5\n",
    "h = h[-N:]\n",
    "l = l[-N:]\n",
    "print(h)\n",
    "print(l)\n",
    "print(\"len(h)\", len(h), \"len(l)\", len(l))\n",
    "print(\"Close\", c)\n",
    "previousclose = c[-N -1: -1]\n",
    "print(\"len(previousclose)\", len(previousclose))\n",
    "print(\"Previous close\", previousclose)\n",
    "truerange = np.maximum(h - l, h - previousclose, previousclose - l) \n",
    "\n",
    "print(\"True range\", truerange)\n",
    "\n",
    "atr = np.zeros(N)\n",
    "\n",
    "atr[0] = np.mean(truerange)\n",
    "\n",
    "for i in range(1, N):\n",
    "   atr[i] = (N - 1) * atr[i - 1] + truerange[i]\n",
    "   atr[i] /= N\n",
    "\n",
    "print(\"ATR\", atr)\n"
   ]
  },
  {
   "cell_type": "code",
   "execution_count": 46,
   "metadata": {},
   "outputs": [],
   "source": [
    "%matplotlib inline"
   ]
  },
  {
   "cell_type": "code",
   "execution_count": 100,
   "metadata": {},
   "outputs": [
    {
     "name": "stdout",
     "output_type": "stream",
     "text": [
      "Weights [0.2 0.2 0.2 0.2 0.2]\n",
      "[336.1  339.32 345.03 344.32 343.44 346.5  351.88 355.2  358.16 354.54\n",
      " 356.85 359.18 359.9  363.13 358.3  350.56 338.61 342.62 342.88 348.16\n",
      " 353.21 349.31 352.12 359.56 360.   355.36 355.76 352.47 346.67 351.99]\n",
      "[341.642 343.722 346.234 348.268 351.036 353.256 355.326 356.786 357.726\n",
      " 358.72  359.472 358.214 354.1   350.644 346.594 344.566 345.096 347.236\n",
      " 349.136 352.472 354.84  355.27  356.56  356.63  354.052 352.45 ]\n"
     ]
    },
    {
     "data": {
      "image/png": "[encoded data removed]",
      "text/plain": [
       "<matplotlib.figure.Figure at 0xc3d3ed92b0>"
      ]
     },
     "metadata": {},
     "output_type": "display_data"
    },
    {
     "data": {
      "image/png": "[encoded data removed]",
      "text/plain": [
       "<matplotlib.figure.Figure at 0xc3d3b17c50>"
      ]
     },
     "metadata": {},
     "output_type": "display_data"
    }
   ],
   "source": [
    "import numpy as np\n",
    "import matplotlib.pyplot as plt\n",
    "#see ivan idris book\n",
    "N = 5\n",
    "\n",
    "weights = np.ones(N) / N\n",
    "print(\"Weights\", weights)\n",
    "\n",
    "c = np.loadtxt('data.csv', delimiter=',', usecols=(6,), unpack=True)\n",
    "print(c)\n",
    "sma = np.convolve(weights, c)[N-1:-N+1]\n",
    "print(sma)\n",
    "plt.figure(1)\n",
    "t = np.arange(N - 1, len(c))\n",
    "plt.plot(t, c[N-1:], lw=1.0, label=\"Data\")\n",
    "plt.plot(t, sma, '--', lw=2.0, label=\"Moving average\")\n",
    "plt.title(\"5 Day Moving Average\")\n",
    "plt.xlabel(\"Days\")\n",
    "plt.ylabel(\"Price ($)\")\n",
    "plt.grid()\n",
    "plt.legend()\n",
    "plt.show()\n",
    "#another eg for different line view\n",
    "plt.figure(2)\n",
    "t = np.arange(N - 1, len(c))\n",
    "plt.plot(t, c[N-1:],'-.', lw=1.0, label=\"Data\")\n",
    "plt.plot(t, sma, ':', lw=2.0, label=\"Moving average\")\n",
    "plt.title(\"5 Day Moving Average\")\n",
    "plt.xlabel(\"Days\")\n",
    "plt.ylabel(\"Price ($)\")\n",
    "plt.grid()\n",
    "plt.legend()\n",
    "plt.show()"
   ]
  },
  {
   "cell_type": "code",
   "execution_count": 101,
   "metadata": {},
   "outputs": [
    {
     "name": "stdout",
     "output_type": "stream",
     "text": [
      "[4. 4. 4. 4. 4.]\n"
     ]
    }
   ],
   "source": [
    "import numpy as np\n",
    "a = np.zeros(5)\n",
    "a.fill(4)#it fills all places with given value\n",
    "print(a)"
   ]
  },
  {
   "cell_type": "code",
   "execution_count": 121,
   "metadata": {},
   "outputs": [
    {
     "name": "stdout",
     "output_type": "stream",
     "text": [
      "6.158409296133416e-17 1.0000000000000002\n"
     ]
    },
    {
     "name": "stderr",
     "output_type": "stream",
     "text": [
      "C:\\ProgramData\\Anaconda3\\lib\\site-packages\\ipykernel_launcher.py:5: FutureWarning: `rcond` parameter will change to the default of machine precision times ``max(M, N)`` where M and N are the input matrix dimensions.\n",
      "To use the future default and silence this warning we advise to pass `rcond=None`, to keep using the old, explicitly pass `rcond=-1`.\n",
      "  \"\"\"\n"
     ]
    }
   ],
   "source": [
    "import numpy as np\n",
    "\n",
    "x=np.array([1, 2])\n",
    "y=np.array([(2,1),(3,2)])\n",
    "a,b=np.linalg.lstsq(y,x)[0]\n",
    "print(a,b)"
   ]
  },
  {
   "cell_type": "code",
   "execution_count": 130,
   "metadata": {},
   "outputs": [
    {
     "name": "stdout",
     "output_type": "stream",
     "text": [
      "[ -0.79772656 210.04845842]\n",
      "Line is: y= -0.7977265649330417 x+ 210.04845842416688\n"
     ]
    },
    {
     "name": "stderr",
     "output_type": "stream",
     "text": [
      "C:\\ProgramData\\Anaconda3\\lib\\site-packages\\ipykernel_launcher.py:7: FutureWarning: `rcond` parameter will change to the default of machine precision times ``max(M, N)`` where M and N are the input matrix dimensions.\n",
      "To use the future default and silence this warning we advise to pass `rcond=None`, to keep using the old, explicitly pass `rcond=-1`.\n",
      "  import sys\n"
     ]
    }
   ],
   "source": [
    "x_d = [18,23,25,35,65,54,34,56,72,19,23,42,18,39,37]\n",
    "y_d = [202,186,187,180,156,169,174,172,153,199,193,174,198,183,178]\n",
    "n=len(x_d)\n",
    "import numpy.linalg\n",
    "B=numpy.array(y_d)\n",
    "A=numpy.array(([[x_d[j], 1] for j in range(n)]))\n",
    "X=numpy.linalg.lstsq(A,B)[0]#compute least square...study bookmarked pages and pseudo inverse\n",
    "print(X)\n",
    "a=X[0]; b=X[1]\n",
    "print (\"Line is: y=\",a,\"x+\",b)\n"
   ]
  },
  {
   "cell_type": "code",
   "execution_count": 143,
   "metadata": {},
   "outputs": [
    {
     "name": "stdout",
     "output_type": "stream",
     "text": [
      "8\n",
      "[1]\n",
      "[1]\n",
      "a = [0 1 2 3 4]\n",
      "Clipped [1 1 2 2 2]\n",
      "[0 1 2 3]\n",
      "Compressed [3]\n",
      "b = [1 2 3 4 5 6 7 8]\n",
      "Factorial 40320\n",
      "Factorials [    1     2     6    24   120   720  5040 40320]\n"
     ]
    }
   ],
   "source": [
    "import numpy as np\n",
    "from functools import reduce#for intersection\n",
    "\n",
    "x=np.array([(2,1),(3,1),(1,6)])\n",
    "y=np.array([(1,5),(1,9)])\n",
    "z=np.array([(3,1),(1,1),(7,1)])\n",
    "a=np.dot([2,1],[3,2])#prints dot product\n",
    "print(a)\n",
    "print(np.intersect1d(x,y))#gives intersection\n",
    "print(reduce(np.intersect1d, (x,y,z)))#gives intersection of more than 2 arrays \n",
    "a = np.arange(5)\n",
    "print(\"a =\", a)\n",
    "print(\"Clipped\", a.clip(1, 2))#clip() method returns a clipped array, so that all values above a maximum value are set to \n",
    "#the maximum and values below a minimum are set to the minimum value\n",
    "a = np.arange(4)\n",
    "print(a)\n",
    "print(\"Compressed\", a.compress(a > 2))#ndarray compress() method returns an array based on a condition\n",
    "b = np.arange(1, 9)\n",
    "print(\"b =\", b)\n",
    "print(\"Factorial\", b.prod())#computes the product of the elements in an array\n",
    "print(\"Factorials\", b.cumprod())#computes the cumulative product of an array"
   ]
  }
 ],
 "metadata": {
  "kernelspec": {
   "display_name": "Python 3",
   "language": "python",
   "name": "python3"
  },
  "language_info": {
   "codemirror_mode": {
    "name": "ipython",
    "version": 3
   },
   "file_extension": ".py",
   "mimetype": "text/x-python",
   "name": "python",
   "nbconvert_exporter": "python",
   "pygments_lexer": "ipython3",
   "version": "3.6.4"
  }
 },
 "nbformat": 4,
 "nbformat_minor": 2
}
