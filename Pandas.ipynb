{
 "cells": [
  {
   "cell_type": "code",
   "execution_count": 73,
   "metadata": {},
   "outputs": [
    {
     "name": "stdout",
     "output_type": "stream",
     "text": [
      "0    1\n",
      "1    2\n",
      "2    3\n",
      "3    4\n",
      "4    5\n",
      "5    6\n",
      "dtype: int64\n"
     ]
    }
   ],
   "source": [
    "import pandas as pd\n",
    "s=pd.Series([1,2,3,4,5,6])\n",
    "print(s)"
   ]
  },
  {
   "cell_type": "code",
   "execution_count": 74,
   "metadata": {
    "scrolled": true
   },
   "outputs": [
    {
     "name": "stdout",
     "output_type": "stream",
     "text": [
      "DatetimeIndex(['2018-06-30', '2018-07-01', '2018-07-02', '2018-07-03',\n",
      "               '2018-07-04', '2018-07-05'],\n",
      "              dtype='datetime64[ns]', freq='D')\n",
      "                   A         B         C         D\n",
      "2018-06-30  0.781247  0.803260 -0.200712 -1.848148\n",
      "2018-07-01 -0.283081 -0.670243 -1.404123 -0.572586\n",
      "2018-07-02 -0.913158 -0.125391  0.022065  1.840978\n",
      "2018-07-03  0.345147 -0.086069  1.465351  0.690981\n",
      "2018-07-04 -0.219403 -0.946940 -0.636985  0.633331\n",
      "2018-07-05 -0.123537 -0.576258  0.894514 -0.928090\n",
      "DatetimeIndex(['2018-06-30', '2018-07-01', '2018-07-02', '2018-07-03',\n",
      "               '2018-07-04', '2018-07-05'],\n",
      "              dtype='datetime64[ns]', freq='D')\n",
      "Index(['A', 'B', 'C', 'D'], dtype='object')\n",
      "[[ 0.78124722  0.80325973 -0.20071245 -1.84814768]\n",
      " [-0.28308098 -0.67024271 -1.40412298 -0.57258638]\n",
      " [-0.91315772 -0.12539125  0.02206547  1.84097841]\n",
      " [ 0.3451467  -0.08606878  1.46535121  0.69098075]\n",
      " [-0.2194032  -0.94693961 -0.63698464  0.63333099]\n",
      " [-0.12353722 -0.57625807  0.89451407 -0.92808958]]\n",
      "              A         B         C         D\n",
      "count  6.000000  6.000000  6.000000  6.000000\n",
      "mean  -0.068798 -0.266940  0.023352 -0.030589\n",
      "std    0.579390  0.619485  1.035589  1.331691\n",
      "min   -0.913158 -0.946940 -1.404123 -1.848148\n",
      "25%   -0.267162 -0.646747 -0.527917 -0.839214\n",
      "50%   -0.171470 -0.350825 -0.089323  0.030372\n",
      "75%    0.227976 -0.095899  0.676402  0.676568\n",
      "max    0.781247  0.803260  1.465351  1.840978\n",
      "   2018-06-30  2018-07-01  2018-07-02  2018-07-03  2018-07-04  2018-07-05\n",
      "A    0.781247   -0.283081   -0.913158    0.345147   -0.219403   -0.123537\n",
      "B    0.803260   -0.670243   -0.125391   -0.086069   -0.946940   -0.576258\n",
      "C   -0.200712   -1.404123    0.022065    1.465351   -0.636985    0.894514\n",
      "D   -1.848148   -0.572586    1.840978    0.690981    0.633331   -0.928090\n",
      "                   D         C         B         A\n",
      "2018-06-30 -1.848148 -0.200712  0.803260  0.781247\n",
      "2018-07-01 -0.572586 -1.404123 -0.670243 -0.283081\n",
      "2018-07-02  1.840978  0.022065 -0.125391 -0.913158\n",
      "2018-07-03  0.690981  1.465351 -0.086069  0.345147\n",
      "2018-07-04  0.633331 -0.636985 -0.946940 -0.219403\n",
      "2018-07-05 -0.928090  0.894514 -0.576258 -0.123537\n",
      "                   A         B         C         D\n",
      "2018-07-04 -0.219403 -0.946940 -0.636985  0.633331\n",
      "2018-07-01 -0.283081 -0.670243 -1.404123 -0.572586\n",
      "2018-07-05 -0.123537 -0.576258  0.894514 -0.928090\n",
      "2018-07-02 -0.913158 -0.125391  0.022065  1.840978\n",
      "2018-07-03  0.345147 -0.086069  1.465351  0.690981\n",
      "2018-06-30  0.781247  0.803260 -0.200712 -1.848148\n"
     ]
    }
   ],
   "source": [
    "import numpy as np\n",
    "date=pd.date_range('20180630',periods=6)\n",
    "print(date)\n",
    "df=pd.DataFrame(np.random.randn(6,4),index=date,columns=list('ABCD'))\n",
    "print(df)\n",
    "print(df.index)#prints index\n",
    "print(df.columns)#prints columns\n",
    "print(df.values)#prints values\n",
    "print(df.describe())#describe summury of table\n",
    "print(df.T)#prints transpose of dataframe\n",
    "print(df.sort_index(axis=1,ascending=False))#sorts columnwise decreasing\n",
    "print(df.sort_values(by='B'))#sorts values by column B"
   ]
  },
  {
   "cell_type": "code",
   "execution_count": 75,
   "metadata": {},
   "outputs": [
    {
     "name": "stdout",
     "output_type": "stream",
     "text": [
      "     A          B    C  D      E    F\n",
      "0  1.0 2013-01-02  1.0  3   test  foo\n",
      "1  1.0 2013-01-02  1.0  3  train  foo\n",
      "2  1.0 2013-01-02  1.0  3   test  foo\n",
      "3  1.0 2013-01-02  1.0  3  train  foo\n",
      "     A          B    C  D      E    F\n",
      "3  1.0 2013-01-02  1.0  3  train  foo\n",
      "     A          B    C  D     E    F\n",
      "0  1.0 2013-01-02  1.0  3  test  foo\n"
     ]
    }
   ],
   "source": [
    "df2 = pd.DataFrame({ 'A' : 1.,\n",
    "                             'B' : pd.Timestamp('20130102'),\n",
    "                             'C' : pd.Series(1,index=list(range(4)),dtype='float32'),\n",
    "                             'D' : np.array([3] * 4,dtype='int32'),\n",
    "                             'E' : pd.Categorical([\"test\",\"train\",\"test\",\"train\"]),\n",
    "                             'F' : 'foo' })\n",
    "print(df2)\n",
    "print(df2.tail(1))\n",
    "print(df2.head(1))"
   ]
  },
  {
   "cell_type": "code",
   "execution_count": 76,
   "metadata": {},
   "outputs": [
    {
     "name": "stdout",
     "output_type": "stream",
     "text": [
      "                   A         B         C         D\n",
      "2018-06-30  0.781247  0.803260 -0.200712 -1.848148\n",
      "2018-07-01 -0.283081 -0.670243 -1.404123 -0.572586\n",
      "2018-07-02 -0.913158 -0.125391  0.022065  1.840978\n",
      "2018-07-03  0.345147 -0.086069  1.465351  0.690981\n",
      "2018-07-04 -0.219403 -0.946940 -0.636985  0.633331\n",
      "2018-07-05 -0.123537 -0.576258  0.894514 -0.928090\n",
      "2018-06-30    0.781247\n",
      "2018-07-01   -0.283081\n",
      "2018-07-02   -0.913158\n",
      "2018-07-03    0.345147\n",
      "2018-07-04   -0.219403\n",
      "2018-07-05   -0.123537\n",
      "Freq: D, Name: A, dtype: float64\n",
      "                   A         B         C         D\n",
      "2018-06-30  0.781247  0.803260 -0.200712 -1.848148\n",
      "2018-07-01 -0.283081 -0.670243 -1.404123 -0.572586\n",
      "2018-07-02 -0.913158 -0.125391  0.022065  1.840978\n",
      "                   A         B         C         D\n",
      "2018-07-03  0.345147 -0.086069  1.465351  0.690981\n",
      "2018-07-04 -0.219403 -0.946940 -0.636985  0.633331\n",
      "2018-07-05 -0.123537 -0.576258  0.894514 -0.928090\n"
     ]
    }
   ],
   "source": [
    "print(df)\n",
    "print(df['A'])\n",
    "print(df[0:3])\n",
    "print(df['20180703':'20180705'])"
   ]
  },
  {
   "cell_type": "code",
   "execution_count": 77,
   "metadata": {},
   "outputs": [
    {
     "name": "stdout",
     "output_type": "stream",
     "text": [
      "A    0.781247\n",
      "B    0.803260\n",
      "C   -0.200712\n",
      "D   -1.848148\n",
      "Name: 2018-06-30 00:00:00, dtype: float64\n",
      "                   A         B\n",
      "2018-06-30  0.781247  0.803260\n",
      "2018-07-01 -0.283081 -0.670243\n",
      "2018-07-02 -0.913158 -0.125391\n",
      "2018-07-03  0.345147 -0.086069\n",
      "2018-07-04 -0.219403 -0.946940\n",
      "2018-07-05 -0.123537 -0.576258\n",
      "                   C         D\n",
      "2018-07-02  0.022065  1.840978\n",
      "2018-07-03  1.465351  0.690981\n",
      "2018-07-04 -0.636985  0.633331\n",
      "2018-07-05  0.894514 -0.928090\n",
      "0.7812472170948107\n",
      "                   A         C\n",
      "2018-07-01 -0.283081 -1.404123\n",
      "2018-07-02 -0.913158  0.022065\n",
      "2018-07-04 -0.219403 -0.636985\n"
     ]
    }
   ],
   "source": [
    "print(df.loc[date[0]])#viewing using label\n",
    "print(df.loc[:,['A','B']])\n",
    "print(df.loc['20180702':'20180705',['C','D']])\n",
    "print(df.loc[date[0],'A'])\n",
    "print(df.iloc[[1,2,4],[0,2]])#selection by position as in numpy"
   ]
  },
  {
   "cell_type": "code",
   "execution_count": 78,
   "metadata": {},
   "outputs": [
    {
     "name": "stdout",
     "output_type": "stream",
     "text": [
      "                   A         B         C         D\n",
      "2018-06-30  0.781247  0.803260 -0.200712 -1.848148\n",
      "2018-07-01 -0.283081 -0.670243 -1.404123 -0.572586\n",
      "2018-07-02 -0.913158 -0.125391  0.022065  1.840978\n",
      "2018-07-03  0.345147 -0.086069  1.465351  0.690981\n",
      "2018-07-04 -0.219403 -0.946940 -0.636985  0.633331\n",
      "2018-07-05 -0.123537 -0.576258  0.894514 -0.928090\n",
      "                   A         B         C         D\n",
      "2018-06-30  0.781247  0.803260 -0.200712 -1.848148\n",
      "2018-07-03  0.345147 -0.086069  1.465351  0.690981\n",
      "                   A        B         C         D\n",
      "2018-06-30  0.781247  0.80326       NaN       NaN\n",
      "2018-07-01       NaN      NaN       NaN       NaN\n",
      "2018-07-02       NaN      NaN  0.022065  1.840978\n",
      "2018-07-03  0.345147      NaN  1.465351  0.690981\n",
      "2018-07-04       NaN      NaN       NaN  0.633331\n",
      "2018-07-05       NaN      NaN  0.894514       NaN\n",
      "                   A         B         C         D      E\n",
      "2018-06-30  0.781247  0.803260 -0.200712 -1.848148    one\n",
      "2018-07-01 -0.283081 -0.670243 -1.404123 -0.572586    one\n",
      "2018-07-02 -0.913158 -0.125391  0.022065  1.840978    two\n",
      "2018-07-03  0.345147 -0.086069  1.465351  0.690981  three\n",
      "2018-07-04 -0.219403 -0.946940 -0.636985  0.633331  three\n",
      "2018-07-05 -0.123537 -0.576258  0.894514 -0.928090    one\n",
      "                   A         B         C         D         A         B  \\\n",
      "2018-06-30  0.781247  0.803260 -0.200712 -1.848148  0.781247  0.803260   \n",
      "2018-07-01 -0.283081 -0.670243 -1.404123 -0.572586 -0.283081 -0.670243   \n",
      "2018-07-02 -0.913158 -0.125391  0.022065  1.840978 -0.913158 -0.125391   \n",
      "2018-07-03  0.345147 -0.086069  1.465351  0.690981  0.345147 -0.086069   \n",
      "2018-07-04 -0.219403 -0.946940 -0.636985  0.633331 -0.219403 -0.946940   \n",
      "2018-07-05 -0.123537 -0.576258  0.894514 -0.928090 -0.123537 -0.576258   \n",
      "\n",
      "                   C         D      E  \n",
      "2018-06-30 -0.200712 -1.848148    one  \n",
      "2018-07-01 -1.404123 -0.572586    one  \n",
      "2018-07-02  0.022065  1.840978    two  \n",
      "2018-07-03  1.465351  0.690981  three  \n",
      "2018-07-04 -0.636985  0.633331  three  \n",
      "2018-07-05  0.894514 -0.928090    one  \n"
     ]
    }
   ],
   "source": [
    "print(df)\n",
    "print(df[df.A>0])\n",
    "print(df[df>0])\n",
    "df2=df.copy()\n",
    "df2['E']=['one','one','two','three','three','one']\n",
    "print(df2)\n",
    "print(pd.concat([df, df2], join='inner', axis=1))#joins horizontally"
   ]
  },
  {
   "cell_type": "code",
   "execution_count": 79,
   "metadata": {},
   "outputs": [
    {
     "name": "stdout",
     "output_type": "stream",
     "text": [
      "                   A         B         C         D      E\n",
      "2018-06-30  0.781247  0.803260 -0.200712 -1.848148    one\n",
      "2018-07-01 -0.283081 -0.670243 -1.404123 -0.572586    one\n",
      "2018-07-02 -0.913158 -0.125391  0.022065  1.840978    two\n",
      "2018-07-03  0.345147 -0.086069  1.465351  0.690981  three\n",
      "2018-07-04 -0.219403 -0.946940 -0.636985  0.633331  three\n",
      "2018-07-05 -0.123537 -0.576258  0.894514 -0.928090    one\n",
      "2018-07-02   -0.125391\n",
      "Freq: D, Name: B, dtype: float64\n",
      "                   A         B         C         D      E\n",
      "2018-07-02 -0.913158 -0.125391  0.022065  1.840978    two\n",
      "2018-07-03  0.345147 -0.086069  1.465351  0.690981  three\n",
      "2018-07-04 -0.219403 -0.946940 -0.636985  0.633331  three\n",
      "                   A         B         C         D      E\n",
      "2018-06-30  0.781247  1.606519 -0.200712 -1.848148    one\n",
      "2018-07-01 -0.283081 -0.670243 -1.404123 -0.572586    one\n",
      "2018-07-02 -0.913158 -0.125391  0.022065  1.840978    two\n",
      "2018-07-03  0.345147 -0.172138  1.465351  0.690981  three\n",
      "2018-07-04 -0.219403 -0.946940 -0.636985  0.633331  three\n",
      "2018-07-05 -0.123537 -0.576258  0.894514 -0.928090    one\n"
     ]
    }
   ],
   "source": [
    "print(df2)\n",
    "print(df2['B'][df2['E']=='two'])\n",
    "print(df2[(df2['E']=='two')|(df2['E']=='three')])\n",
    "df2.loc[df2['A'] > 0, 'B'] *= 2#same as UPDATE tips SET tip = tip*2 WHERE tip < 2; of SQL command\n",
    "print(df2)"
   ]
  },
  {
   "cell_type": "code",
   "execution_count": 80,
   "metadata": {},
   "outputs": [
    {
     "name": "stdout",
     "output_type": "stream",
     "text": [
      "(5, 2)\n",
      "  col1 col2\n",
      "1    B  NaN\n",
      "  col1 col2\n",
      "0    A    F\n",
      "1    B  NaN\n",
      "3    C    H\n",
      "4    D    I\n",
      "sex\n",
      "Female     87\n",
      "Male      157\n",
      "dtype: int64\n",
      "           tip  day\n",
      "day                \n",
      "Fri   2.734737   19\n",
      "Sat   2.993103   87\n",
      "Sun   3.255132   76\n",
      "Thur  2.771452   62\n",
      "              tip          \n",
      "             size      mean\n",
      "day  smoker                \n",
      "Fri  No       4.0  2.812500\n",
      "     Yes     15.0  2.714000\n",
      "Sat  No      45.0  3.102889\n",
      "     Yes     42.0  2.875476\n",
      "Sun  No      57.0  3.167895\n",
      "     Yes     19.0  3.516842\n",
      "Thur No      45.0  2.673778\n",
      "     Yes     17.0  3.030000\n"
     ]
    }
   ],
   "source": [
    "url = 'https://raw.github.com/pandas-dev/pandas/master/pandas/tests/data/tips.csv'\n",
    "df3 = pd.read_csv(url)\n",
    "frame = pd.DataFrame({'col1': ['A', 'B', np.NaN, 'C', 'D'],'col2': ['F', np.NaN, 'G', 'H', 'I']})\n",
    "print(frame.shape)#gives shape\n",
    "print(frame[frame['col2'].isna()])#gives null values\n",
    "print(frame[frame['col1'].notna()])#gives not null values\n",
    "print(df3.groupby('sex').size())\n",
    "print(df3.groupby('day').agg({'tip':np.mean,'day':np.size}))#Multiple functions can also be applied at once. For instance, say we’d like to see how tip amount differs by day of the week - agg() allows you to pass a dictionary to your grouped DataFrame, indicating which functions to apply to specific columns.\n",
    "print(df3.groupby(['day','smoker']).agg({'tip':[np.size,np.mean]}))\n",
    "df3.loc[df3['tip'] <2, 'tip'] *= 2#same as UPDATE tips SET tip = tip*2 WHERE tip < 2; of SQL command"
   ]
  },
  {
   "cell_type": "code",
   "execution_count": 81,
   "metadata": {},
   "outputs": [
    {
     "name": "stdout",
     "output_type": "stream",
     "text": [
      "  key   value_x   value_y\n",
      "0   B -1.198717  2.158674\n",
      "1   D -1.086186 -2.080906\n",
      "2   D -1.086186 -0.114583\n",
      "  key   value_x   value_y\n",
      "0   A  0.656624       NaN\n",
      "1   B -1.198717  2.158674\n",
      "2   C  1.752955       NaN\n",
      "3   D -1.086186 -2.080906\n",
      "4   D -1.086186 -0.114583\n",
      "  key   value_x   value_y\n",
      "0   B -1.198717  2.158674\n",
      "1   D -1.086186 -2.080906\n",
      "2   D -1.086186 -0.114583\n",
      "3   E       NaN  0.887811\n",
      "  key   value_x   value_y\n",
      "0   A  0.656624       NaN\n",
      "1   B -1.198717  2.158674\n",
      "2   C  1.752955       NaN\n",
      "3   D -1.086186 -2.080906\n",
      "4   D -1.086186 -0.114583\n",
      "5   E       NaN  0.887811\n"
     ]
    }
   ],
   "source": [
    "df4 = pd.DataFrame({'key': ['A', 'B', 'C', 'D'],'value': np.random.randn(4)})\n",
    "df5 = pd.DataFrame({'key': ['B', 'D', 'D', 'E'],'value': np.random.randn(4)})\n",
    "print(pd.merge(df4, df5, on='key'))#merges to dataframes\n",
    "print(pd.merge(df4, df5, on='key', how='left'))#show all records from df1\n",
    "print(pd.merge(df4, df5, on='key', how='right'))#show all records from df2\n",
    "print(pd.merge(df4, df5, on='key', how='outer'))#show all records from both frames"
   ]
  },
  {
   "cell_type": "code",
   "execution_count": 82,
   "metadata": {},
   "outputs": [
    {
     "name": "stdout",
     "output_type": "stream",
     "text": [
      "            city  rank\n",
      "0        Chicago     1\n",
      "1  San Francisco     2\n",
      "2  New York City     3\n",
      "0        Chicago     1\n",
      "1         Boston     4\n",
      "2    Los Angeles     5\n",
      "            city  rank\n",
      "0        Chicago     1\n",
      "1  San Francisco     2\n",
      "2  New York City     3\n",
      "1         Boston     4\n",
      "2    Los Angeles     5\n"
     ]
    }
   ],
   "source": [
    "df6 = pd.DataFrame({'city': ['Chicago', 'San Francisco', 'New York City'],'rank': range(1, 4)})\n",
    "df7 = pd.DataFrame({'city': ['Chicago', 'Boston', 'Los Angeles'],'rank': [1, 4, 5]})\n",
    "print(pd.concat([df6,df7]))#gives union\n",
    "print(pd.concat([df6, df7]).drop_duplicates())#remove duplicates"
   ]
  },
  {
   "cell_type": "code",
   "execution_count": 114,
   "metadata": {},
   "outputs": [
    {
     "name": "stdout",
     "output_type": "stream",
     "text": [
      "        day  temperature  windspeed  event\n",
      "0  1/1/2017           32          6   Rain\n",
      "1  1/2/2017           35          7  Sunny\n",
      "2  1/3/2017           28          2   Snow\n",
      "3  1/4/2017           24          7   Snow\n",
      "4  1/5/2017           32          4   Rain\n",
      "5  1/6/2017           31          2  Sunny\n",
      "        day  temperature\n",
      "0  1/1/2017           32\n",
      "1  1/2/2017           35\n",
      "2  1/3/2017           28\n",
      "3  1/4/2017           24\n",
      "4  1/5/2017           32\n",
      "5  1/6/2017           31\n",
      "35\n",
      "3.8297084310253524\n",
      "temperature      24\n",
      "windspeed         7\n",
      "event          Snow\n",
      "Name: 1/4/2017, dtype: object\n",
      "       temperature  windspeed\n",
      "event                        \n",
      "Snow            28          2\n",
      "Snow            24          7\n"
     ]
    }
   ],
   "source": [
    "#creating on df\n",
    "weather_data = {\n",
    "    'day': ['1/1/2017','1/2/2017','1/3/2017','1/4/2017','1/5/2017','1/6/2017'],\n",
    "    'temperature': [32,35,28,24,32,31],\n",
    "    'windspeed': [6,7,2,7,4,2],\n",
    "    'event': ['Rain', 'Sunny', 'Snow','Snow','Rain', 'Sunny']\n",
    "}\n",
    "df8 = pd.DataFrame(weather_data)\n",
    "#reading existing excel file\n",
    "df8 = pd.read_csv(\"weather_data.csv\")\n",
    "print(df8)\n",
    "print(df8[['day','temperature']])\n",
    "print(df8['temperature'].max())\n",
    "print(df8['temperature'].std())\n",
    "df8.set_index('day')#this only shows df wrt day as index\n",
    "df8.set_index('day', inplace=True)#this modifies df wrt day as index\n",
    "print(df8.loc['1/4/2017'])\n",
    "df8.set_index('event', inplace=True)\n",
    "print(df8.loc['Snow'])\n",
    "df8.reset_index(inplace=True)"
   ]
  },
  {
   "cell_type": "code",
   "execution_count": 118,
   "metadata": {},
   "outputs": [
    {
     "data": {
      "text/html": [
       "<div>\n",
       "<style scoped>\n",
       "    .dataframe tbody tr th:only-of-type {\n",
       "        vertical-align: middle;\n",
       "    }\n",
       "\n",
       "    .dataframe tbody tr th {\n",
       "        vertical-align: top;\n",
       "    }\n",
       "\n",
       "    .dataframe thead th {\n",
       "        text-align: right;\n",
       "    }\n",
       "</style>\n",
       "<table border=\"1\" class=\"dataframe\">\n",
       "  <thead>\n",
       "    <tr style=\"text-align: right;\">\n",
       "      <th></th>\n",
       "      <th>ticker</th>\n",
       "      <th>eps</th>\n",
       "      <th>revenue</th>\n",
       "      <th>people</th>\n",
       "    </tr>\n",
       "  </thead>\n",
       "  <tbody>\n",
       "    <tr>\n",
       "      <th>tickers</th>\n",
       "      <td>eps</td>\n",
       "      <td>revenue</td>\n",
       "      <td>price</td>\n",
       "      <td>people</td>\n",
       "    </tr>\n",
       "    <tr>\n",
       "      <th>GOOGL</th>\n",
       "      <td>27.82</td>\n",
       "      <td>87</td>\n",
       "      <td>845</td>\n",
       "      <td>larry page</td>\n",
       "    </tr>\n",
       "    <tr>\n",
       "      <th>WMT</th>\n",
       "      <td>4.61</td>\n",
       "      <td>484</td>\n",
       "      <td>65</td>\n",
       "      <td>n.a.</td>\n",
       "    </tr>\n",
       "    <tr>\n",
       "      <th>MSFT</th>\n",
       "      <td>-1</td>\n",
       "      <td>85</td>\n",
       "      <td>64</td>\n",
       "      <td>bill gates</td>\n",
       "    </tr>\n",
       "    <tr>\n",
       "      <th>RIL</th>\n",
       "      <td>not available</td>\n",
       "      <td>50</td>\n",
       "      <td>1023</td>\n",
       "      <td>mukesh ambani</td>\n",
       "    </tr>\n",
       "    <tr>\n",
       "      <th>TATA</th>\n",
       "      <td>5.6</td>\n",
       "      <td>-1</td>\n",
       "      <td>n.a.</td>\n",
       "      <td>ratan tata</td>\n",
       "    </tr>\n",
       "  </tbody>\n",
       "</table>\n",
       "</div>"
      ],
      "text/plain": [
       "                ticker      eps revenue         people\n",
       "tickers            eps  revenue   price         people\n",
       "GOOGL            27.82       87     845     larry page\n",
       "WMT               4.61      484      65           n.a.\n",
       "MSFT                -1       85      64     bill gates\n",
       "RIL      not available       50    1023  mukesh ambani\n",
       "TATA               5.6       -1    n.a.     ratan tata"
      ]
     },
     "execution_count": 118,
     "metadata": {},
     "output_type": "execute_result"
    }
   ],
   "source": [
    "df9=pd.read_csv('stock_data.csv',skiprows=1)#skips 1st row\n",
    "df9 = pd.read_csv(\"stock_data.csv\", header=None, names = [\"ticker\",\"eps\",\"revenue\",\"people\"])\n",
    "df9"
   ]
  }
 ],
 "metadata": {
  "kernelspec": {
   "display_name": "Python 3",
   "language": "python",
   "name": "python3"
  },
  "language_info": {
   "codemirror_mode": {
    "name": "ipython",
    "version": 3
   },
   "file_extension": ".py",
   "mimetype": "text/x-python",
   "name": "python",
   "nbconvert_exporter": "python",
   "pygments_lexer": "ipython3",
   "version": "3.6.4"
  }
 },
 "nbformat": 4,
 "nbformat_minor": 2
}
